{
 "cells": [
  {
   "cell_type": "markdown",
   "metadata": {},
   "source": [
    "This notebook is a small number of supplemental examples to the post (https://ncar.github.io/soars19ctds/) on Python numeric built-ins.  **NOTE:** You will need an internet connection for one of the cells to execute properly. "
   ]
  },
  {
   "cell_type": "markdown",
   "metadata": {},
   "source": [
    "# Numeric built-ins: `sum()`, `min()`, `max()`, `round()`, `abs()`"
   ]
  },
  {
   "cell_type": "code",
   "execution_count": 1,
   "metadata": {},
   "outputs": [],
   "source": [
    "sample = range(0, 100)"
   ]
  },
  {
   "cell_type": "code",
   "execution_count": 2,
   "metadata": {},
   "outputs": [
    {
     "data": {
      "text/plain": [
       "4950"
      ]
     },
     "execution_count": 2,
     "metadata": {},
     "output_type": "execute_result"
    }
   ],
   "source": [
    "sum(sample)"
   ]
  },
  {
   "cell_type": "code",
   "execution_count": 3,
   "metadata": {},
   "outputs": [
    {
     "data": {
      "text/plain": [
       "0"
      ]
     },
     "execution_count": 3,
     "metadata": {},
     "output_type": "execute_result"
    }
   ],
   "source": [
    "min(sample)"
   ]
  },
  {
   "cell_type": "code",
   "execution_count": 4,
   "metadata": {},
   "outputs": [
    {
     "data": {
      "text/plain": [
       "99"
      ]
     },
     "execution_count": 4,
     "metadata": {},
     "output_type": "execute_result"
    }
   ],
   "source": [
    "max(sample)"
   ]
  },
  {
   "cell_type": "code",
   "execution_count": 5,
   "metadata": {},
   "outputs": [
    {
     "data": {
      "text/plain": [
       "1"
      ]
     },
     "execution_count": 5,
     "metadata": {},
     "output_type": "execute_result"
    }
   ],
   "source": [
    "round(1.11)"
   ]
  },
  {
   "cell_type": "code",
   "execution_count": 6,
   "metadata": {},
   "outputs": [
    {
     "data": {
      "text/plain": [
       "2"
      ]
     },
     "execution_count": 6,
     "metadata": {},
     "output_type": "execute_result"
    }
   ],
   "source": [
    "round(1.59)"
   ]
  },
  {
   "cell_type": "code",
   "execution_count": 7,
   "metadata": {},
   "outputs": [
    {
     "data": {
      "text/plain": [
       "1.01"
      ]
     },
     "execution_count": 7,
     "metadata": {},
     "output_type": "execute_result"
    }
   ],
   "source": [
    "abs(1.01)"
   ]
  },
  {
   "cell_type": "code",
   "execution_count": 8,
   "metadata": {},
   "outputs": [
    {
     "data": {
      "text/plain": [
       "1.01"
      ]
     },
     "execution_count": 8,
     "metadata": {},
     "output_type": "execute_result"
    }
   ],
   "source": [
    "abs(-1.01)"
   ]
  },
  {
   "cell_type": "markdown",
   "metadata": {},
   "source": [
    "# `enumerate()`\n"
   ]
  },
  {
   "cell_type": "code",
   "execution_count": 9,
   "metadata": {},
   "outputs": [],
   "source": [
    "str = 'ateststring' # note str are iterables"
   ]
  },
  {
   "cell_type": "markdown",
   "metadata": {},
   "source": [
    "If we enumerate over the characters in a string, we can get the index and character."
   ]
  },
  {
   "cell_type": "code",
   "execution_count": 10,
   "metadata": {},
   "outputs": [
    {
     "name": "stdout",
     "output_type": "stream",
     "text": [
      "0 a\n",
      "1 t\n",
      "2 e\n",
      "3 s\n",
      "4 t\n",
      "5 s\n",
      "6 t\n",
      "7 r\n",
      "8 i\n",
      "9 n\n",
      "10 g\n"
     ]
    }
   ],
   "source": [
    "for i, c in enumerate(str):\n",
    "    print(i, c)"
   ]
  },
  {
   "cell_type": "markdown",
   "metadata": {},
   "source": [
    "# `filter()`"
   ]
  },
  {
   "cell_type": "markdown",
   "metadata": {},
   "source": [
    "Let's describe a function that returns `True` if the input is divisible by 6."
   ]
  },
  {
   "cell_type": "code",
   "execution_count": 11,
   "metadata": {},
   "outputs": [],
   "source": [
    "def divisible_by_6(n):\n",
    "    return (n%6)==0"
   ]
  },
  {
   "cell_type": "markdown",
   "metadata": {},
   "source": [
    "Now we can used `filter()` to select only those numbers divisible by 6:"
   ]
  },
  {
   "cell_type": "code",
   "execution_count": 12,
   "metadata": {},
   "outputs": [
    {
     "data": {
      "text/plain": [
       "[6,\n",
       " 12,\n",
       " 18,\n",
       " 24,\n",
       " 30,\n",
       " 36,\n",
       " 42,\n",
       " 48,\n",
       " 54,\n",
       " 60,\n",
       " 66,\n",
       " 72,\n",
       " 78,\n",
       " 84,\n",
       " 90,\n",
       " 96,\n",
       " 102,\n",
       " 108,\n",
       " 114,\n",
       " 120,\n",
       " 126,\n",
       " 132,\n",
       " 138,\n",
       " 144,\n",
       " 150,\n",
       " 156,\n",
       " 162,\n",
       " 168,\n",
       " 174,\n",
       " 180,\n",
       " 186,\n",
       " 192,\n",
       " 198,\n",
       " 204,\n",
       " 210,\n",
       " 216,\n",
       " 222,\n",
       " 228,\n",
       " 234,\n",
       " 240,\n",
       " 246,\n",
       " 252,\n",
       " 258,\n",
       " 264,\n",
       " 270,\n",
       " 276,\n",
       " 282,\n",
       " 288,\n",
       " 294,\n",
       " 300,\n",
       " 306,\n",
       " 312,\n",
       " 318,\n",
       " 324,\n",
       " 330,\n",
       " 336,\n",
       " 342,\n",
       " 348,\n",
       " 354,\n",
       " 360,\n",
       " 366,\n",
       " 372,\n",
       " 378,\n",
       " 384,\n",
       " 390,\n",
       " 396,\n",
       " 402,\n",
       " 408,\n",
       " 414,\n",
       " 420,\n",
       " 426,\n",
       " 432,\n",
       " 438,\n",
       " 444,\n",
       " 450,\n",
       " 456,\n",
       " 462,\n",
       " 468,\n",
       " 474,\n",
       " 480,\n",
       " 486,\n",
       " 492,\n",
       " 498,\n",
       " 504,\n",
       " 510,\n",
       " 516,\n",
       " 522,\n",
       " 528,\n",
       " 534,\n",
       " 540,\n",
       " 546,\n",
       " 552,\n",
       " 558,\n",
       " 564,\n",
       " 570,\n",
       " 576,\n",
       " 582,\n",
       " 588,\n",
       " 594,\n",
       " 600,\n",
       " 606,\n",
       " 612,\n",
       " 618,\n",
       " 624,\n",
       " 630,\n",
       " 636,\n",
       " 642,\n",
       " 648,\n",
       " 654,\n",
       " 660,\n",
       " 666,\n",
       " 672,\n",
       " 678,\n",
       " 684,\n",
       " 690,\n",
       " 696,\n",
       " 702,\n",
       " 708,\n",
       " 714,\n",
       " 720,\n",
       " 726,\n",
       " 732,\n",
       " 738,\n",
       " 744,\n",
       " 750,\n",
       " 756,\n",
       " 762,\n",
       " 768,\n",
       " 774,\n",
       " 780,\n",
       " 786,\n",
       " 792,\n",
       " 798,\n",
       " 804,\n",
       " 810,\n",
       " 816,\n",
       " 822,\n",
       " 828,\n",
       " 834,\n",
       " 840,\n",
       " 846,\n",
       " 852,\n",
       " 858,\n",
       " 864,\n",
       " 870,\n",
       " 876,\n",
       " 882,\n",
       " 888,\n",
       " 894,\n",
       " 900,\n",
       " 906,\n",
       " 912,\n",
       " 918,\n",
       " 924,\n",
       " 930,\n",
       " 936,\n",
       " 942,\n",
       " 948,\n",
       " 954,\n",
       " 960,\n",
       " 966,\n",
       " 972,\n",
       " 978,\n",
       " 984,\n",
       " 990,\n",
       " 996]"
      ]
     },
     "execution_count": 12,
     "metadata": {},
     "output_type": "execute_result"
    }
   ],
   "source": [
    "list(filter(divisible_by_6, range(1,1000)))"
   ]
  },
  {
   "cell_type": "markdown",
   "metadata": {},
   "source": [
    "What if we wanted to use `filter()` on words.  Let's grab a large file of words (top 1000 most common, thanks [@deekayen](https://gist.github.com/deekayen))."
   ]
  },
  {
   "cell_type": "code",
   "execution_count": 13,
   "metadata": {},
   "outputs": [],
   "source": [
    "import requests\n",
    "r = requests.get(\"https://gist.githubusercontent.com/deekayen/4148741/raw/01c6252ccc5b5fb307c1bb899c95989a8a284616/1-1000.txt\")\n",
    "\n",
    "if r.status_code == 200:\n",
    "    words = r.text.split('\\n')"
   ]
  },
  {
   "cell_type": "code",
   "execution_count": 14,
   "metadata": {},
   "outputs": [
    {
     "data": {
      "text/plain": [
       "['the', 'of', 'to', 'and', 'a', 'in', 'is', 'it', 'you', 'that']"
      ]
     },
     "execution_count": 14,
     "metadata": {},
     "output_type": "execute_result"
    }
   ],
   "source": [
    "words[:10]"
   ]
  },
  {
   "cell_type": "code",
   "execution_count": 15,
   "metadata": {},
   "outputs": [
    {
     "data": {
      "text/plain": [
       "['other',\n",
       " 'there',\n",
       " 'which',\n",
       " 'their',\n",
       " 'about',\n",
       " 'write',\n",
       " 'would',\n",
       " 'these',\n",
       " 'thing',\n",
       " 'could',\n",
       " 'sound',\n",
       " 'water',\n",
       " 'first',\n",
       " 'place',\n",
       " 'where',\n",
       " 'after',\n",
       " 'round',\n",
       " 'every',\n",
       " 'under',\n",
       " 'great',\n",
       " 'think',\n",
       " 'cause',\n",
       " 'right',\n",
       " 'three',\n",
       " 'small',\n",
       " 'large',\n",
       " 'spell',\n",
       " 'light',\n",
       " 'house',\n",
       " 'again',\n",
       " 'point',\n",
       " 'world',\n",
       " 'build',\n",
       " 'earth',\n",
       " 'stand',\n",
       " 'found',\n",
       " 'study',\n",
       " 'still',\n",
       " 'learn',\n",
       " 'plant',\n",
       " 'cover',\n",
       " 'state',\n",
       " 'never',\n",
       " 'cross',\n",
       " 'start',\n",
       " 'might',\n",
       " 'story',\n",
       " \"don't\",\n",
       " 'while',\n",
       " 'press',\n",
       " 'close',\n",
       " 'night',\n",
       " 'north',\n",
       " 'white',\n",
       " 'begin',\n",
       " 'paper',\n",
       " 'group',\n",
       " 'music',\n",
       " 'those',\n",
       " 'often',\n",
       " 'until',\n",
       " 'river',\n",
       " 'carry',\n",
       " 'began',\n",
       " 'horse',\n",
       " 'watch',\n",
       " 'color',\n",
       " 'plain',\n",
       " 'usual',\n",
       " 'young',\n",
       " 'ready',\n",
       " 'above',\n",
       " 'leave',\n",
       " 'black',\n",
       " 'short',\n",
       " 'class',\n",
       " 'order',\n",
       " 'south',\n",
       " 'piece',\n",
       " 'since',\n",
       " 'whole',\n",
       " 'space',\n",
       " 'heard',\n",
       " 'early',\n",
       " 'reach',\n",
       " 'table',\n",
       " 'vowel',\n",
       " 'money',\n",
       " 'serve',\n",
       " 'voice',\n",
       " 'power',\n",
       " 'field',\n",
       " 'pound',\n",
       " 'drive',\n",
       " 'stood',\n",
       " 'front',\n",
       " 'teach',\n",
       " 'final',\n",
       " 'green',\n",
       " 'quick',\n",
       " 'ocean',\n",
       " 'clear',\n",
       " 'wheel',\n",
       " 'force',\n",
       " 'plane',\n",
       " 'stead',\n",
       " 'laugh',\n",
       " 'check',\n",
       " 'shape',\n",
       " 'bring',\n",
       " 'paint',\n",
       " 'among',\n",
       " 'grand',\n",
       " 'heart',\n",
       " 'heavy',\n",
       " 'dance',\n",
       " 'speak',\n",
       " 'count',\n",
       " 'store',\n",
       " 'train',\n",
       " 'sleep',\n",
       " 'prove',\n",
       " 'catch',\n",
       " 'mount',\n",
       " 'board',\n",
       " 'glass',\n",
       " 'grass',\n",
       " 'visit',\n",
       " 'month',\n",
       " 'happy',\n",
       " 'eight',\n",
       " 'raise',\n",
       " 'solve',\n",
       " 'metal',\n",
       " 'seven',\n",
       " 'third',\n",
       " 'shall',\n",
       " 'floor',\n",
       " 'coast',\n",
       " 'value',\n",
       " 'fight',\n",
       " 'sense',\n",
       " 'quite',\n",
       " 'broke',\n",
       " 'scale',\n",
       " 'child',\n",
       " 'speed',\n",
       " 'organ',\n",
       " 'dress',\n",
       " 'cloud',\n",
       " 'quiet',\n",
       " 'stone',\n",
       " 'climb',\n",
       " 'stick',\n",
       " 'smile',\n",
       " 'trade',\n",
       " 'mouth',\n",
       " 'exact',\n",
       " 'least',\n",
       " 'shout',\n",
       " 'wrote',\n",
       " 'clean',\n",
       " 'break',\n",
       " 'blood',\n",
       " 'touch',\n",
       " 'brown',\n",
       " 'equal',\n",
       " 'woman',\n",
       " 'whose',\n",
       " 'radio',\n",
       " 'spoke',\n",
       " 'human',\n",
       " 'party',\n",
       " 'agree',\n",
       " \"won't\",\n",
       " 'chair',\n",
       " 'fruit',\n",
       " 'thick',\n",
       " 'guess',\n",
       " 'sharp',\n",
       " 'crowd',\n",
       " 'sight',\n",
       " 'hurry',\n",
       " 'chief',\n",
       " 'clock',\n",
       " 'enter',\n",
       " 'major',\n",
       " 'fresh',\n",
       " 'allow',\n",
       " 'print',\n",
       " 'block',\n",
       " 'chart',\n",
       " 'event',\n",
       " 'quart',\n",
       " 'truck',\n",
       " 'noise',\n",
       " 'level',\n",
       " 'throw',\n",
       " 'shine',\n",
       " 'wrong',\n",
       " 'broad',\n",
       " 'anger',\n",
       " 'claim',\n",
       " 'sugar',\n",
       " 'death',\n",
       " 'skill',\n",
       " 'women',\n",
       " 'thank',\n",
       " 'match',\n",
       " 'steel',\n",
       " 'guide',\n",
       " 'score',\n",
       " 'apple',\n",
       " 'pitch',\n",
       " 'dream',\n",
       " 'total',\n",
       " 'basic',\n",
       " 'smell',\n",
       " 'track',\n",
       " 'shore',\n",
       " 'sheet',\n",
       " 'favor',\n",
       " 'spend',\n",
       " 'chord',\n",
       " 'share',\n",
       " 'bread',\n",
       " 'offer',\n",
       " 'slave',\n",
       " 'chick',\n",
       " 'enemy',\n",
       " 'reply',\n",
       " 'drink',\n",
       " 'occur',\n",
       " 'range',\n",
       " 'steam',\n",
       " 'meant',\n",
       " 'teeth',\n",
       " 'shell']"
      ]
     },
     "execution_count": 15,
     "metadata": {},
     "output_type": "execute_result"
    }
   ],
   "source": [
    "list(filter(lambda x: len(x)==5, words))"
   ]
  },
  {
   "cell_type": "markdown",
   "metadata": {},
   "source": [
    "Let's get the words ending in \"ss\" ..."
   ]
  },
  {
   "cell_type": "code",
   "execution_count": 16,
   "metadata": {},
   "outputs": [
    {
     "data": {
      "text/plain": [
       "['cross',\n",
       " 'press',\n",
       " 'class',\n",
       " 'pass',\n",
       " 'less',\n",
       " 'miss',\n",
       " 'glass',\n",
       " 'grass',\n",
       " 'dress',\n",
       " 'process',\n",
       " 'guess',\n",
       " 'success',\n",
       " 'discuss',\n",
       " 'mass']"
      ]
     },
     "execution_count": 16,
     "metadata": {},
     "output_type": "execute_result"
    }
   ],
   "source": [
    "list(filter(lambda x: True if len(x)>2 and x[-2:]=='ss' else False, words))"
   ]
  },
  {
   "cell_type": "markdown",
   "metadata": {},
   "source": [
    "If the `lambda` expression being used confuses you, take a look at this [little tutorial at W3Schools](https://www.w3schools.com/python/python_lambda.asp). "
   ]
  },
  {
   "cell_type": "markdown",
   "metadata": {},
   "source": [
    "# `map()`"
   ]
  },
  {
   "cell_type": "markdown",
   "metadata": {},
   "source": [
    "This example was explained in the journal writeup."
   ]
  },
  {
   "cell_type": "code",
   "execution_count": 17,
   "metadata": {},
   "outputs": [],
   "source": [
    "def times_4(n):\n",
    "    \"\"\" return the input multiplied by 4.\"\"\"\n",
    "    return n*4"
   ]
  },
  {
   "cell_type": "code",
   "execution_count": 18,
   "metadata": {},
   "outputs": [
    {
     "data": {
      "text/plain": [
       "[4, 8, 12, 16, 20]"
      ]
     },
     "execution_count": 18,
     "metadata": {},
     "output_type": "execute_result"
    }
   ],
   "source": [
    "list(map(times_4, [1,2,3,4,5]))"
   ]
  },
  {
   "cell_type": "markdown",
   "metadata": {},
   "source": [
    "But this example works on words in a simple and clever way."
   ]
  },
  {
   "cell_type": "code",
   "execution_count": 19,
   "metadata": {},
   "outputs": [
    {
     "data": {
      "text/plain": [
       "['crosses',\n",
       " 'presses',\n",
       " 'classes',\n",
       " 'passes',\n",
       " 'lesses',\n",
       " 'misses',\n",
       " 'glasses',\n",
       " 'grasses',\n",
       " 'dresses',\n",
       " 'processes',\n",
       " 'guesses',\n",
       " 'successes',\n",
       " 'discusses',\n",
       " 'masses']"
      ]
     },
     "execution_count": 19,
     "metadata": {},
     "output_type": "execute_result"
    }
   ],
   "source": [
    "list(map(lambda x: x+\"es\",\n",
    "         filter(lambda x: \n",
    "                 True if len(x)>2 and x[-2:]=='ss' \n",
    "                 else False, words)))"
   ]
  },
  {
   "cell_type": "code",
   "execution_count": 20,
   "metadata": {},
   "outputs": [
    {
     "data": {
      "text/plain": [
       "False"
      ]
     },
     "execution_count": 20,
     "metadata": {},
     "output_type": "execute_result"
    }
   ],
   "source": [
    "any(map(lambda x: x[-1]=='z', words))"
   ]
  },
  {
   "cell_type": "markdown",
   "metadata": {},
   "source": [
    "Are there any words in the top 1000 that end in \"x\"?"
   ]
  },
  {
   "cell_type": "code",
   "execution_count": 21,
   "metadata": {},
   "outputs": [
    {
     "data": {
      "text/plain": [
       "True"
      ]
     },
     "execution_count": 21,
     "metadata": {},
     "output_type": "execute_result"
    }
   ],
   "source": [
    "any(map(lambda x: x[-1]=='x', words))"
   ]
  },
  {
   "cell_type": "markdown",
   "metadata": {},
   "source": [
    "Are all the words starting with \"q\" also have \"u\" following the \"q\"?"
   ]
  },
  {
   "cell_type": "code",
   "execution_count": 22,
   "metadata": {},
   "outputs": [
    {
     "data": {
      "text/plain": [
       "True"
      ]
     },
     "execution_count": 22,
     "metadata": {},
     "output_type": "execute_result"
    }
   ],
   "source": [
    "all(map(lambda x: x[1]=='u', filter(lambda x: x[0]=='q', words)))"
   ]
  },
  {
   "cell_type": "markdown",
   "metadata": {},
   "source": [
    "# `help()`"
   ]
  },
  {
   "cell_type": "code",
   "execution_count": 23,
   "metadata": {},
   "outputs": [
    {
     "name": "stdout",
     "output_type": "stream",
     "text": [
      "Help on class map in module builtins:\n",
      "\n",
      "class map(object)\n",
      " |  map(func, *iterables) --> map object\n",
      " |  \n",
      " |  Make an iterator that computes the function using arguments from\n",
      " |  each of the iterables.  Stops when the shortest iterable is exhausted.\n",
      " |  \n",
      " |  Methods defined here:\n",
      " |  \n",
      " |  __getattribute__(self, name, /)\n",
      " |      Return getattr(self, name).\n",
      " |  \n",
      " |  __iter__(self, /)\n",
      " |      Implement iter(self).\n",
      " |  \n",
      " |  __new__(*args, **kwargs) from builtins.type\n",
      " |      Create and return a new object.  See help(type) for accurate signature.\n",
      " |  \n",
      " |  __next__(self, /)\n",
      " |      Implement next(self).\n",
      " |  \n",
      " |  __reduce__(...)\n",
      " |      Return state information for pickling.\n",
      "\n"
     ]
    }
   ],
   "source": [
    "help(map)"
   ]
  },
  {
   "cell_type": "code",
   "execution_count": 24,
   "metadata": {},
   "outputs": [
    {
     "name": "stdout",
     "output_type": "stream",
     "text": [
      "Help on method_descriptor:\n",
      "\n",
      "__reduce__(...)\n",
      "    Return state information for pickling.\n",
      "\n"
     ]
    }
   ],
   "source": [
    "help(map.__reduce__)"
   ]
  },
  {
   "cell_type": "code",
   "execution_count": 25,
   "metadata": {},
   "outputs": [
    {
     "name": "stdout",
     "output_type": "stream",
     "text": [
      "Help on function times_4 in module __main__:\n",
      "\n",
      "times_4(n)\n",
      "    return the input multiplied by 4.\n",
      "\n"
     ]
    }
   ],
   "source": [
    "help(times_4)"
   ]
  },
  {
   "cell_type": "markdown",
   "metadata": {},
   "source": [
    "Huh?  If this is confusing, notice the [\"docstring\"](https://www.python.org/dev/peps/pep-0257/) right after the function definition:\n",
    "\n",
    "```\n",
    "def times_4(n):\n",
    "    \"\"\" return the input multiplied by 4.\"\"\"\n",
    "    return n*4\n",
    "```\n",
    "\n",
    "This will get read by Python and used as the documentation returned when `help()` is called."
   ]
  },
  {
   "cell_type": "markdown",
   "metadata": {},
   "source": [
    "$$\\Xi$$"
   ]
  }
 ],
 "metadata": {
  "kernelspec": {
   "display_name": "Python 3",
   "language": "python",
   "name": "python3"
  },
  "language_info": {
   "codemirror_mode": {
    "name": "ipython",
    "version": 3
   },
   "file_extension": ".py",
   "mimetype": "text/x-python",
   "name": "python",
   "nbconvert_exporter": "python",
   "pygments_lexer": "ipython3",
   "version": "3.6.7"
  }
 },
 "nbformat": 4,
 "nbformat_minor": 2
}
